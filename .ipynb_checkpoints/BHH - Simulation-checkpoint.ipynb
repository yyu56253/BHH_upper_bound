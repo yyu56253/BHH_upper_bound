{
 "cells": [
  {
   "cell_type": "markdown",
   "metadata": {},
   "source": [
    "Sampling:\n",
    "$$ z_0, z_1, z_2, z_3, z_4 \\sim^{i.i.d} exponential(1) $$\n",
    "$$ x_0 = z_0; x_1 = z_0 + z_1; x_2 = z_0 + z_1 + z_2; x_3 = z_0 + z_1 + z_2 + z_3; x_4 = z_0 + z_1 + z_2 + z_3 + z_4$$\n",
    "$$ f(x_0,x_1,x_2,...,x_k) = e^{-x_k} $$\n",
    "$$ 0 \\leq x_0 \\leq x_1 \\leq x_2 \\leq ... \\leq x_k $$"
   ]
  },
  {
   "cell_type": "code",
   "execution_count": 1,
   "metadata": {},
   "outputs": [],
   "source": [
    "import time\n",
    "import cmath\n",
    "import numpy as np\n",
    "import pandas as pd\n",
    "import scipy.integrate as integrate\n",
    "import itertools\n",
    "from itertools import combinations\n",
    "from itertools import permutations\n",
    "from matplotlib import pyplot as plt\n",
    "from collections import deque\n",
    "h = 3 # H = h^2 in the papers"
   ]
  },
  {
   "cell_type": "code",
   "execution_count": 2,
   "metadata": {},
   "outputs": [],
   "source": [
    "# 4-point zigzag: Sampling the 7-dimensional vectors\n",
    "z = np.random.exponential(1, 9000000).reshape(3000000,3)\n",
    "x = np.concatenate((np.array([z[:,0]]).T, np.array([z[:,0] + z[:,1]]).T, np.array([z[:,0] + z[:,1] + z[:,2]]).T),axis=1)\n",
    "u = np.random.rand(3000000,4)\n",
    "v = np.concatenate((x,u), axis=1)"
   ]
  },
  {
   "cell_type": "code",
   "execution_count": 3,
   "metadata": {},
   "outputs": [],
   "source": [
    "# Calculate all possible paths depending on the sampled vectors\n",
    "L2_0123 = np.linalg.norm([v[:,0], h*(v[:,4]-v[:,3])],axis=0) + np.linalg.norm([v[:,1]-v[:,0], h*(v[:,5]-v[:,4])],axis=0) + np.linalg.norm([(v[:,2]-v[:,1]), h*(v[:,6]-v[:,5])],axis=0)\n",
    "L2_0213 = np.linalg.norm([v[:,1], h*(v[:,5]-v[:,3])],axis=0) + np.linalg.norm([v[:,0]-v[:,1], h*(v[:,4]-v[:,5])],axis=0) + np.linalg.norm([(v[:,2]-v[:,0]), h*(v[:,6]-v[:,4])],axis=0)\n",
    "matrix = np.concatenate([np.array([L2_0123]),np.array([L2_0213])],axis=0)\n",
    "L2_min = matrix.min(axis=0); L2_argmin = matrix.argmin(axis=0)\n",
    "matrix = np.concatenate([matrix,np.array([L2_min, L2_argmin]),np.array([np.divide(L2_min,L2_0123)])],axis=0).T"
   ]
  },
  {
   "cell_type": "markdown",
   "metadata": {},
   "source": [
    "### Main: 9 or 10-dimensional (5 points)"
   ]
  },
  {
   "cell_type": "code",
   "execution_count": 4,
   "metadata": {},
   "outputs": [],
   "source": [
    "# Randomly sample the 10-dimensional vectors\n",
    "z = np.random.exponential(1, 150000000).reshape(30000000, 5)\n",
    "x = np.concatenate((np.array([z[:,0]]).T, np.array([z[:,0] + z[:,1]]).T, np.array([z[:,0] + z[:,1] + z[:,2]]).T, np.array([z[:,0] + z[:,1] + z[:,2] + z[:,3]]).T, np.array([z[:,0] + z[:,1] + z[:,2] + z[:,3] + z[:,4]]).T), axis=1)\n",
    "u = np.random.rand(30000000, 5)\n",
    "v = np.concatenate((x,u), axis=1)"
   ]
  },
  {
   "cell_type": "code",
   "execution_count": 5,
   "metadata": {},
   "outputs": [],
   "source": [
    "# Calculate all six possible paths depending on the sampled vectors\n",
    "L2_01234 = np.linalg.norm([v[:,1]-v[:,0], h*(v[:,6]-v[:,5])],axis=0) + np.linalg.norm([v[:,2]-v[:,1], h*(v[:,7]-v[:,6])],axis=0) + np.linalg.norm([(v[:,3]-v[:,2]), h*(v[:,8]-v[:,7])],axis=0) + np.linalg.norm([(v[:,4]-v[:,3]), h*(v[:,9]-v[:,8])],axis=0)\n",
    "L2_01324 = np.linalg.norm([v[:,1]-v[:,0], h*(v[:,6]-v[:,5])],axis=0) + np.linalg.norm([v[:,3]-v[:,1], h*(v[:,8]-v[:,6])],axis=0) + np.linalg.norm([(v[:,2]-v[:,3]), h*(v[:,7]-v[:,8])],axis=0) + np.linalg.norm([(v[:,4]-v[:,2]), h*(v[:,9]-v[:,7])],axis=0)\n",
    "L2_02134 = np.linalg.norm([v[:,2]-v[:,0], h*(v[:,7]-v[:,5])],axis=0) + np.linalg.norm([v[:,1]-v[:,2], h*(v[:,6]-v[:,7])],axis=0) + np.linalg.norm([(v[:,3]-v[:,1]), h*(v[:,8]-v[:,6])],axis=0) + np.linalg.norm([(v[:,4]-v[:,3]), h*(v[:,9]-v[:,8])],axis=0)\n",
    "L2_02314 = np.linalg.norm([v[:,2]-v[:,0], h*(v[:,7]-v[:,5])],axis=0) + np.linalg.norm([v[:,3]-v[:,2], h*(v[:,8]-v[:,7])],axis=0) + np.linalg.norm([(v[:,1]-v[:,3]), h*(v[:,6]-v[:,8])],axis=0) + np.linalg.norm([(v[:,4]-v[:,1]), h*(v[:,9]-v[:,6])],axis=0)\n",
    "L2_03124 = np.linalg.norm([v[:,3]-v[:,0], h*(v[:,8]-v[:,5])],axis=0) + np.linalg.norm([v[:,1]-v[:,3], h*(v[:,6]-v[:,8])],axis=0) + np.linalg.norm([(v[:,2]-v[:,1]), h*(v[:,7]-v[:,6])],axis=0) + np.linalg.norm([(v[:,4]-v[:,2]), h*(v[:,9]-v[:,7])],axis=0)\n",
    "L2_03214 = np.linalg.norm([v[:,3]-v[:,0], h*(v[:,8]-v[:,5])],axis=0) + np.linalg.norm([v[:,2]-v[:,3], h*(v[:,7]-v[:,8])],axis=0) + np.linalg.norm([(v[:,1]-v[:,2]), h*(v[:,6]-v[:,7])],axis=0) + np.linalg.norm([(v[:,4]-v[:,1]), h*(v[:,9]-v[:,6])],axis=0)\n",
    "matrix = np.concatenate([np.array([L2_01234]),np.array([L2_01324]),np.array([L2_02134]),np.array([L2_02314]),np.array([L2_03124]),np.array([L2_03214])],axis=0)\n",
    "L2_min = matrix.min(axis=0); L2_argmin = matrix.argmin(axis=0)\n",
    "matrix = np.concatenate([matrix,np.array([L2_min, L2_argmin]),np.array([np.divide(L2_min,L2_01234)])],axis=0).T"
   ]
  },
  {
   "cell_type": "code",
   "execution_count": 6,
   "metadata": {},
   "outputs": [
    {
     "data": {
      "image/png": "[encoded data removed]",
      "text/plain": [
       "<Figure size 432x288 with 1 Axes>"
      ]
     },
     "metadata": {
      "needs_background": "light"
     },
     "output_type": "display_data"
    },
    {
     "name": "stdout",
     "output_type": "stream",
     "text": [
      "0-1-2-3-4 best: 73.065%\n",
      "0-1-3-2-4 best: 10.495%\n",
      "0-2-1-3-4 best: 10.496%\n",
      "0-2-3-1-4 best: 2.137%\n",
      "0-3-1-2-4 best: 2.138%\n",
      "0-3-2-1-4 best: 1.669%\n",
      "Ratio <= 0.6: 0.384%\n",
      "Ratio <= 0.65: 0.905%\n",
      "Ratio <= 0.7: 1.832%\n",
      "Ratio <= 0.75: 3.316%\n",
      "Ratio <= 0.8: 5.504%\n",
      "Ratio <= 0.85: 8.578%\n",
      "Ratio <= 0.9: 12.78%\n",
      "Ratio <= 0.95: 18.513%\n",
      "Ratio <= 0.99: 24.853%\n"
     ]
    }
   ],
   "source": [
    "# Plot frequency count\n",
    "plt.hist(matrix[:,-1], bins = list(np.arange(60,101,1)/100), density = True)\n",
    "plt.title(\"5 points: min of 6 permutations over identity (0-1-2-3-4)\")\n",
    "plt.ylabel(\"percentage\")\n",
    "plt.show()\n",
    "\n",
    "# Count occurrences where each of the six scenarios has the shortest path\n",
    "print('0-1-2-3-4 best: ' + str(round(np.sum(matrix[:,-3] == matrix[:,-9])/300000, 3)) + '%') # Default (0-1-2-3-4) is the shortest (most samples)\n",
    "print('0-1-3-2-4 best: ' + str(round(np.sum(matrix[:,-3] == matrix[:,-8])/300000, 3)) + '%') # Path (0-1-3-2-4) is the shortest (best alternative)\n",
    "print('0-2-1-3-4 best: ' + str(round(np.sum(matrix[:,-3] == matrix[:,-7])/300000, 3)) + '%') # Path (0-2-1-3-4) is the shortest (best alternative)\n",
    "print('0-2-3-1-4 best: ' + str(round(np.sum(matrix[:,-3] == matrix[:,-6])/300000, 3)) + '%') # Path (0-2-3-1-4) is the shortest\n",
    "print('0-3-1-2-4 best: ' + str(round(np.sum(matrix[:,-3] == matrix[:,-5])/300000, 3)) + '%') # Path (0-3-1-2-4) is the shortest\n",
    "print('0-3-2-1-4 best: ' + str(round(np.sum(matrix[:,-3] == matrix[:,-4])/300000, 3)) + '%') # Path (0-3-2-1-4) is the shortest\n",
    "\n",
    "# Rows: samples where 0-1-2-3-4 is not the shortest path\n",
    "# Columns: x_1-x_4, y_0-y_4 (0-8); all six path lengths (9-14); min summation (15); ratio (16)\n",
    "matrix_60 = matrix[matrix[:,-1] <= 0.6] # Take samples with: {min path length}/{length of 0-1-2-3-4} <= 0.6\n",
    "matrix_65 = matrix[matrix[:,-1] <= 0.65] # Take samples with: {min path length}/{length of 0-1-2-3-4} <= 0.65\n",
    "matrix_70 = matrix[matrix[:,-1] <= 0.7] # Take samples with: {min path length}/{length of 0-1-2-3-4} <= 0.7\n",
    "matrix_75 = matrix[matrix[:,-1] <= 0.75] # Take samples with: {min path length}/{length of 0-1-2-3-4} <= 0.75\n",
    "matrix_80 = matrix[matrix[:,-1] <= 0.8] # Take samples with: {min path length}/{length of 0-1-2-3-4} <= 0.8\n",
    "matrix_85 = matrix[matrix[:,-1] <= 0.85] # Take samples with: {min path length}/{length of 0-1-2-3-4} <= 0.85\n",
    "matrix_90 = matrix[matrix[:,-1] <= 0.9] # Take samples with: {min path length}/{length of 0-1-2-3-4} <= 0.9\n",
    "matrix_95 = matrix[matrix[:,-1] <= 0.95] # Take samples with: {min path length}/{length of 0-1-2-3-4} <= 0.95\n",
    "matrix_99 = matrix[matrix[:,-1] <= 0.99] # Take samples with: {min path length}/{length of 0-1-2-3-4} <= 0.99\n",
    "print('Ratio <= 0.6: ' + str(round(len(matrix_60)/300000, 3)) + '%')\n",
    "print('Ratio <= 0.65: ' + str(round(len(matrix_65)/300000, 3)) + '%')\n",
    "print('Ratio <= 0.7: ' + str(round(len(matrix_70)/300000, 3)) + '%')\n",
    "print('Ratio <= 0.75: ' + str(round(len(matrix_75)/300000, 3)) + '%')\n",
    "print('Ratio <= 0.8: ' + str(round(len(matrix_80)/300000, 3)) + '%')\n",
    "print('Ratio <= 0.85: ' + str(round(len(matrix_85)/300000, 3)) + '%')\n",
    "print('Ratio <= 0.9: ' + str(round(len(matrix_90)/300000, 3)) + '%')\n",
    "print('Ratio <= 0.95: ' + str(round(len(matrix_95)/300000, 3)) + '%')\n",
    "print('Ratio <= 0.99: ' + str(round(len(matrix_99)/300000, 3)) + '%')"
   ]
  },
  {
   "cell_type": "markdown",
   "metadata": {},
   "source": [
    "### Monte Carlo: 11-dimensional (6 points)"
   ]
  },
  {
   "cell_type": "code",
   "execution_count": 7,
   "metadata": {},
   "outputs": [],
   "source": [
    "# Sampling the 11-dimensional vectors\n",
    "z = np.random.exponential(1, 150000000).reshape(30000000,5)\n",
    "x = np.concatenate((np.array([z[:,0]]).T, np.array([z[:,0] + z[:,1]]).T, np.array([z[:,0] + z[:,1] + z[:,2]]).T, np.array([z[:,0] + z[:,1] + z[:,2] + z[:,3]]).T, np.array([z[:,0] + z[:,1] + z[:,2] + z[:,3] + z[:,4]]).T),axis=1)\n",
    "u = np.random.rand(30000000,6)\n",
    "v = np.concatenate((x,u), axis=1)"
   ]
  },
  {
   "cell_type": "code",
   "execution_count": 8,
   "metadata": {},
   "outputs": [],
   "source": [
    "L2_012345 = np.linalg.norm([v[:,0], h*(v[:,6]-v[:,5])],axis=0) + np.linalg.norm([(v[:,1]-v[:,0]), h*(v[:,7]-v[:,6])],axis=0) + np.linalg.norm([(v[:,2]-v[:,1]), h*(v[:,8]-v[:,7])],axis=0) + np.linalg.norm([(v[:,3]-v[:,2]), h*(v[:,9]-v[:,8])],axis=0) + np.linalg.norm([(v[:,4]-v[:,3]), h*(v[:,10]-v[:,9])],axis=0)\n",
    "L2_012435 = np.linalg.norm([v[:,0], h*(v[:,6]-v[:,5])],axis=0) + np.linalg.norm([(v[:,1]-v[:,0]), h*(v[:,7]-v[:,6])],axis=0) + np.linalg.norm([(v[:,3]-v[:,1]), h*(v[:,9]-v[:,7])],axis=0) + np.linalg.norm([(v[:,2]-v[:,3]), h*(v[:,8]-v[:,9])],axis=0) + np.linalg.norm([(v[:,4]-v[:,2]), h*(v[:,10]-v[:,8])],axis=0)\n",
    "L2_013245 = np.linalg.norm([v[:,0], h*(v[:,6]-v[:,5])],axis=0) + np.linalg.norm([(v[:,2]-v[:,0]), h*(v[:,8]-v[:,6])],axis=0) + np.linalg.norm([(v[:,1]-v[:,2]), h*(v[:,7]-v[:,8])],axis=0) + np.linalg.norm([(v[:,3]-v[:,1]), h*(v[:,9]-v[:,7])],axis=0) + np.linalg.norm([(v[:,4]-v[:,3]), h*(v[:,10]-v[:,9])],axis=0)\n",
    "L2_013425 = np.linalg.norm([v[:,0], h*(v[:,6]-v[:,5])],axis=0) + np.linalg.norm([(v[:,2]-v[:,0]), h*(v[:,8]-v[:,6])],axis=0) + np.linalg.norm([(v[:,3]-v[:,2]), h*(v[:,9]-v[:,8])],axis=0) + np.linalg.norm([(v[:,1]-v[:,3]), h*(v[:,7]-v[:,9])],axis=0) + np.linalg.norm([(v[:,4]-v[:,1]), h*(v[:,10]-v[:,7])],axis=0)\n",
    "L2_014235 = np.linalg.norm([v[:,0], h*(v[:,6]-v[:,5])],axis=0) + np.linalg.norm([(v[:,3]-v[:,0]), h*(v[:,9]-v[:,6])],axis=0) + np.linalg.norm([(v[:,1]-v[:,3]), h*(v[:,7]-v[:,9])],axis=0) + np.linalg.norm([(v[:,2]-v[:,1]), h*(v[:,8]-v[:,7])],axis=0) + np.linalg.norm([(v[:,4]-v[:,2]), h*(v[:,10]-v[:,8])],axis=0)\n",
    "L2_014325 = np.linalg.norm([v[:,0], h*(v[:,6]-v[:,5])],axis=0) + np.linalg.norm([(v[:,3]-v[:,0]), h*(v[:,9]-v[:,6])],axis=0) + np.linalg.norm([(v[:,2]-v[:,3]), h*(v[:,8]-v[:,9])],axis=0) + np.linalg.norm([(v[:,1]-v[:,2]), h*(v[:,7]-v[:,8])],axis=0) + np.linalg.norm([(v[:,4]-v[:,1]), h*(v[:,10]-v[:,7])],axis=0)\n",
    "L2_021345 = np.linalg.norm([v[:,1], h*(v[:,7]-v[:,5])],axis=0) + np.linalg.norm([(v[:,0]-v[:,1]), h*(v[:,6]-v[:,7])],axis=0) + np.linalg.norm([(v[:,2]-v[:,0]), h*(v[:,8]-v[:,6])],axis=0) + np.linalg.norm([(v[:,3]-v[:,2]), h*(v[:,9]-v[:,8])],axis=0) + np.linalg.norm([(v[:,4]-v[:,3]), h*(v[:,10]-v[:,9])],axis=0)\n",
    "L2_021435 = np.linalg.norm([v[:,1], h*(v[:,7]-v[:,5])],axis=0) + np.linalg.norm([(v[:,0]-v[:,1]), h*(v[:,6]-v[:,7])],axis=0) + np.linalg.norm([(v[:,3]-v[:,0]), h*(v[:,9]-v[:,6])],axis=0) + np.linalg.norm([(v[:,2]-v[:,3]), h*(v[:,8]-v[:,9])],axis=0) + np.linalg.norm([(v[:,4]-v[:,2]), h*(v[:,10]-v[:,8])],axis=0)\n",
    "L2_023145 = np.linalg.norm([v[:,1], h*(v[:,7]-v[:,5])],axis=0) + np.linalg.norm([(v[:,2]-v[:,1]), h*(v[:,8]-v[:,7])],axis=0) + np.linalg.norm([(v[:,0]-v[:,2]), h*(v[:,6]-v[:,8])],axis=0) + np.linalg.norm([(v[:,3]-v[:,0]), h*(v[:,9]-v[:,6])],axis=0) + np.linalg.norm([(v[:,4]-v[:,3]), h*(v[:,10]-v[:,9])],axis=0)\n",
    "L2_023415 = np.linalg.norm([v[:,1], h*(v[:,7]-v[:,5])],axis=0) + np.linalg.norm([(v[:,2]-v[:,1]), h*(v[:,8]-v[:,7])],axis=0) + np.linalg.norm([(v[:,3]-v[:,2]), h*(v[:,9]-v[:,8])],axis=0) + np.linalg.norm([(v[:,0]-v[:,3]), h*(v[:,6]-v[:,9])],axis=0) + np.linalg.norm([(v[:,4]-v[:,0]), h*(v[:,10]-v[:,6])],axis=0)\n",
    "L2_024135 = np.linalg.norm([v[:,1], h*(v[:,7]-v[:,5])],axis=0) + np.linalg.norm([(v[:,3]-v[:,1]), h*(v[:,9]-v[:,7])],axis=0) + np.linalg.norm([(v[:,0]-v[:,3]), h*(v[:,6]-v[:,9])],axis=0) + np.linalg.norm([(v[:,2]-v[:,0]), h*(v[:,8]-v[:,6])],axis=0) + np.linalg.norm([(v[:,4]-v[:,2]), h*(v[:,10]-v[:,8])],axis=0)\n",
    "L2_024315 = np.linalg.norm([v[:,1], h*(v[:,7]-v[:,5])],axis=0) + np.linalg.norm([(v[:,3]-v[:,1]), h*(v[:,9]-v[:,7])],axis=0) + np.linalg.norm([(v[:,2]-v[:,3]), h*(v[:,8]-v[:,9])],axis=0) + np.linalg.norm([(v[:,0]-v[:,2]), h*(v[:,6]-v[:,8])],axis=0) + np.linalg.norm([(v[:,4]-v[:,0]), h*(v[:,10]-v[:,6])],axis=0)\n",
    "L2_031245 = np.linalg.norm([v[:,2], h*(v[:,8]-v[:,5])],axis=0) + np.linalg.norm([(v[:,0]-v[:,2]), h*(v[:,6]-v[:,8])],axis=0) + np.linalg.norm([(v[:,1]-v[:,0]), h*(v[:,7]-v[:,6])],axis=0) + np.linalg.norm([(v[:,3]-v[:,1]), h*(v[:,9]-v[:,7])],axis=0) + np.linalg.norm([(v[:,4]-v[:,3]), h*(v[:,10]-v[:,9])],axis=0)\n",
    "L2_031425 = np.linalg.norm([v[:,2], h*(v[:,8]-v[:,5])],axis=0) + np.linalg.norm([(v[:,0]-v[:,2]), h*(v[:,6]-v[:,8])],axis=0) + np.linalg.norm([(v[:,3]-v[:,0]), h*(v[:,9]-v[:,6])],axis=0) + np.linalg.norm([(v[:,1]-v[:,3]), h*(v[:,7]-v[:,9])],axis=0) + np.linalg.norm([(v[:,4]-v[:,1]), h*(v[:,10]-v[:,7])],axis=0)\n",
    "L2_032145 = np.linalg.norm([v[:,2], h*(v[:,8]-v[:,5])],axis=0) + np.linalg.norm([(v[:,1]-v[:,2]), h*(v[:,7]-v[:,8])],axis=0) + np.linalg.norm([(v[:,0]-v[:,1]), h*(v[:,6]-v[:,7])],axis=0) + np.linalg.norm([(v[:,3]-v[:,0]), h*(v[:,9]-v[:,6])],axis=0) + np.linalg.norm([(v[:,4]-v[:,3]), h*(v[:,10]-v[:,9])],axis=0)\n",
    "L2_032415 = np.linalg.norm([v[:,2], h*(v[:,8]-v[:,5])],axis=0) + np.linalg.norm([(v[:,1]-v[:,2]), h*(v[:,7]-v[:,8])],axis=0) + np.linalg.norm([(v[:,3]-v[:,1]), h*(v[:,9]-v[:,7])],axis=0) + np.linalg.norm([(v[:,0]-v[:,3]), h*(v[:,6]-v[:,9])],axis=0) + np.linalg.norm([(v[:,4]-v[:,0]), h*(v[:,10]-v[:,6])],axis=0)\n",
    "L2_034125 = np.linalg.norm([v[:,2], h*(v[:,8]-v[:,5])],axis=0) + np.linalg.norm([(v[:,3]-v[:,2]), h*(v[:,9]-v[:,8])],axis=0) + np.linalg.norm([(v[:,0]-v[:,3]), h*(v[:,6]-v[:,9])],axis=0) + np.linalg.norm([(v[:,1]-v[:,0]), h*(v[:,7]-v[:,6])],axis=0) + np.linalg.norm([(v[:,4]-v[:,1]), h*(v[:,10]-v[:,7])],axis=0)\n",
    "L2_034215 = np.linalg.norm([v[:,2], h*(v[:,8]-v[:,5])],axis=0) + np.linalg.norm([(v[:,3]-v[:,2]), h*(v[:,9]-v[:,8])],axis=0) + np.linalg.norm([(v[:,1]-v[:,3]), h*(v[:,7]-v[:,9])],axis=0) + np.linalg.norm([(v[:,0]-v[:,1]), h*(v[:,6]-v[:,7])],axis=0) + np.linalg.norm([(v[:,4]-v[:,0]), h*(v[:,10]-v[:,6])],axis=0)\n",
    "L2_041235 = np.linalg.norm([v[:,3], h*(v[:,9]-v[:,5])],axis=0) + np.linalg.norm([(v[:,0]-v[:,3]), h*(v[:,6]-v[:,9])],axis=0) + np.linalg.norm([(v[:,1]-v[:,0]), h*(v[:,7]-v[:,6])],axis=0) + np.linalg.norm([(v[:,2]-v[:,1]), h*(v[:,8]-v[:,7])],axis=0) + np.linalg.norm([(v[:,4]-v[:,2]), h*(v[:,10]-v[:,8])],axis=0)\n",
    "L2_041325 = np.linalg.norm([v[:,3], h*(v[:,9]-v[:,5])],axis=0) + np.linalg.norm([(v[:,0]-v[:,3]), h*(v[:,6]-v[:,9])],axis=0) + np.linalg.norm([(v[:,2]-v[:,0]), h*(v[:,8]-v[:,6])],axis=0) + np.linalg.norm([(v[:,1]-v[:,2]), h*(v[:,7]-v[:,8])],axis=0) + np.linalg.norm([(v[:,4]-v[:,1]), h*(v[:,10]-v[:,7])],axis=0)\n",
    "L2_042135 = np.linalg.norm([v[:,3], h*(v[:,9]-v[:,5])],axis=0) + np.linalg.norm([(v[:,1]-v[:,3]), h*(v[:,7]-v[:,9])],axis=0) + np.linalg.norm([(v[:,0]-v[:,1]), h*(v[:,6]-v[:,7])],axis=0) + np.linalg.norm([(v[:,2]-v[:,0]), h*(v[:,8]-v[:,6])],axis=0) + np.linalg.norm([(v[:,4]-v[:,2]), h*(v[:,10]-v[:,8])],axis=0)\n",
    "L2_042315 = np.linalg.norm([v[:,3], h*(v[:,9]-v[:,5])],axis=0) + np.linalg.norm([(v[:,1]-v[:,3]), h*(v[:,7]-v[:,9])],axis=0) + np.linalg.norm([(v[:,2]-v[:,1]), h*(v[:,8]-v[:,7])],axis=0) + np.linalg.norm([(v[:,0]-v[:,2]), h*(v[:,6]-v[:,8])],axis=0) + np.linalg.norm([(v[:,4]-v[:,0]), h*(v[:,10]-v[:,6])],axis=0)\n",
    "L2_043125 = np.linalg.norm([v[:,3], h*(v[:,9]-v[:,5])],axis=0) + np.linalg.norm([(v[:,2]-v[:,3]), h*(v[:,8]-v[:,9])],axis=0) + np.linalg.norm([(v[:,0]-v[:,2]), h*(v[:,6]-v[:,8])],axis=0) + np.linalg.norm([(v[:,1]-v[:,0]), h*(v[:,7]-v[:,6])],axis=0) + np.linalg.norm([(v[:,4]-v[:,1]), h*(v[:,10]-v[:,7])],axis=0)\n",
    "L2_043215 = np.linalg.norm([v[:,3], h*(v[:,9]-v[:,5])],axis=0) + np.linalg.norm([(v[:,2]-v[:,3]), h*(v[:,8]-v[:,9])],axis=0) + np.linalg.norm([(v[:,1]-v[:,2]), h*(v[:,7]-v[:,8])],axis=0) + np.linalg.norm([(v[:,0]-v[:,1]), h*(v[:,6]-v[:,7])],axis=0) + np.linalg.norm([(v[:,4]-v[:,0]), h*(v[:,10]-v[:,6])],axis=0)\n",
    "matrix = np.concatenate([np.array([L2_012345]),np.array([L2_012435]),np.array([L2_013245]),np.array([L2_013425]),np.array([L2_014235]),np.array([L2_014325]),np.array([L2_021345]),np.array([L2_021435]),np.array([L2_023145]),np.array([L2_023415]),np.array([L2_024135]),np.array([L2_024315]),np.array([L2_031245]),np.array([L2_031425]),np.array([L2_032145]),np.array([L2_032415]),np.array([L2_034125]),np.array([L2_034215]),np.array([L2_041235]),np.array([L2_041325]),np.array([L2_042135]),np.array([L2_042315]),np.array([L2_043125]),np.array([L2_043215])],axis=0)\n",
    "L2_min = matrix.min(axis=0); L2_argmin = matrix.argmin(axis=0)\n",
    "matrix = np.concatenate([matrix,np.array([L2_min, L2_argmin]),np.array([np.divide(L2_min,L2_012345)])],axis=0).T"
   ]
  },
  {
   "cell_type": "code",
   "execution_count": 9,
   "metadata": {},
   "outputs": [
    {
     "data": {
      "image/png": "[encoded data removed]",
      "text/plain": [
       "<Figure size 432x288 with 1 Axes>"
      ]
     },
     "metadata": {
      "needs_background": "light"
     },
     "output_type": "display_data"
    },
    {
     "name": "stdout",
     "output_type": "stream",
     "text": [
      "Ratio <= 0.6: 0.278%\n",
      "Ratio <= 0.65: 0.692%\n",
      "Ratio <= 0.7: 1.548%\n",
      "Ratio <= 0.75: 3.136%\n",
      "Ratio <= 0.8: 5.795%\n",
      "Ratio <= 0.85: 9.899%\n",
      "Ratio <= 0.9: 15.897%\n",
      "Ratio <= 0.95: 24.424%\n",
      "Ratio <= 0.99: 34.053%\n"
     ]
    }
   ],
   "source": [
    "plt.hist(matrix[:,-1], bins = list(np.arange(60,101,1)/100), density = True)\n",
    "plt.title(\"6 points: min of 24 permutations over identity (0-1-2-3-4-5)\")\n",
    "plt.ylabel(\"percentage\")\n",
    "plt.show()\n",
    "\n",
    "matrix_60 = matrix[matrix[:,-1] <= 0.6] # Take samples with: {min path length}/{length of 0-1-2-3-4} <= 0.6\n",
    "matrix_65 = matrix[matrix[:,-1] <= 0.65] # Take samples with: {min path length}/{length of 0-1-2-3-4} <= 0.65\n",
    "matrix_70 = matrix[matrix[:,-1] <= 0.7] # Take samples with: {min path length}/{length of 0-1-2-3-4} <= 0.7\n",
    "matrix_75 = matrix[matrix[:,-1] <= 0.75] # Take samples with: {min path length}/{length of 0-1-2-3-4} <= 0.75\n",
    "matrix_80 = matrix[matrix[:,-1] <= 0.8] # Take samples with: {min path length}/{length of 0-1-2-3-4} <= 0.8\n",
    "matrix_85 = matrix[matrix[:,-1] <= 0.85] # Take samples with: {min path length}/{length of 0-1-2-3-4} <= 0.85\n",
    "matrix_90 = matrix[matrix[:,-1] <= 0.9] # Take samples with: {min path length}/{length of 0-1-2-3-4} <= 0.9\n",
    "matrix_95 = matrix[matrix[:,-1] <= 0.95] # Take samples with: {min path length}/{length of 0-1-2-3-4} <= 0.95\n",
    "matrix_99 = matrix[matrix[:,-1] <= 0.99] # Take samples with: {min path length}/{length of 0-1-2-3-4} <= 0.99\n",
    "print('Ratio <= 0.6: ' + str(round(len(matrix_60)/300000, 3)) + '%')\n",
    "print('Ratio <= 0.65: ' + str(round(len(matrix_65)/300000, 3)) + '%')\n",
    "print('Ratio <= 0.7: ' + str(round(len(matrix_70)/300000, 3)) + '%')\n",
    "print('Ratio <= 0.75: ' + str(round(len(matrix_75)/300000, 3)) + '%')\n",
    "print('Ratio <= 0.8: ' + str(round(len(matrix_80)/300000, 3)) + '%')\n",
    "print('Ratio <= 0.85: ' + str(round(len(matrix_85)/300000, 3)) + '%')\n",
    "print('Ratio <= 0.9: ' + str(round(len(matrix_90)/300000, 3)) + '%')\n",
    "print('Ratio <= 0.95: ' + str(round(len(matrix_95)/300000, 3)) + '%')\n",
    "print('Ratio <= 0.99: ' + str(round(len(matrix_99)/300000, 3)) + '%')"
   ]
  },
  {
   "cell_type": "markdown",
   "metadata": {},
   "source": [
    "### Monte Carlo: 13-dimensional (7 points)"
   ]
  },
  {
   "cell_type": "code",
   "execution_count": 10,
   "metadata": {},
   "outputs": [],
   "source": [
    "# Sampling the 13-dimensional vectors\n",
    "z = np.random.exponential(1, 1800000).reshape(300000,6)\n",
    "x = np.concatenate((np.array([z[:,0]]).T, np.array([z[:,0] + z[:,1]]).T, np.array([z[:,0] + z[:,1] + z[:,2]]).T, np.array([z[:,0] + z[:,1] + z[:,2] + z[:,3]]).T, np.array([z[:,0] + z[:,1] + z[:,2] + z[:,3] + z[:,4]]).T, np.array([z[:,0] + z[:,1] + z[:,2] + z[:,3] + z[:,4] + z[:,5]]).T),axis=1)\n",
    "u = np.random.rand(300000,7)\n",
    "v = np.concatenate((x,u), axis=1) # 13 columns"
   ]
  },
  {
   "cell_type": "code",
   "execution_count": 11,
   "metadata": {},
   "outputs": [],
   "source": [
    "L2_7pnt = np.zeros((120, 300000)) # 120 columns\n",
    "for index, perm in enumerate(list(permutations(list(np.arange(5)),5))):\n",
    "    L2_7pnt[index] = np.linalg.norm([v[:,perm[0]], h*(v[:,perm[0]+7]-v[:,6])],axis=0) + np.linalg.norm([(v[:,perm[1]]-v[:,perm[0]]), h*(v[:,perm[1]+7]-v[:,perm[0]+7])],axis=0) + np.linalg.norm([(v[:,perm[2]]-v[:,perm[1]]), h*(v[:,perm[2]+7]-v[:,perm[1]+7])],axis=0) + np.linalg.norm([(v[:,perm[3]]-v[:,perm[2]]), h*(v[:,perm[3]+7]-v[:,perm[2]+7])],axis=0) + np.linalg.norm([(v[:,perm[4]]-v[:,perm[3]]), h*(v[:,perm[4]+7]-v[:,perm[3]+7])],axis=0) + np.linalg.norm([(v[:,5]-v[:,perm[4]]), h*(v[:,12]-v[:,perm[4]+7])],axis=0)\n",
    "L2_min = L2_7pnt.min(axis=0); L2_argmin = L2_7pnt.argmin(axis=0); L2_default = L2_7pnt[0]\n",
    "matrix = np.concatenate([L2_7pnt,np.array([L2_min, L2_argmin]),np.array([np.divide(L2_min,L2_default)])],axis=0).T"
   ]
  },
  {
   "cell_type": "markdown",
   "metadata": {},
   "source": [
    "### Monte Carlo: 15-dimensional (8 points)"
   ]
  },
  {
   "cell_type": "code",
   "execution_count": 12,
   "metadata": {},
   "outputs": [],
   "source": [
    "# Sampling the 15-dimensional vectors\n",
    "z = np.random.exponential(1, 2100000).reshape(300000,7)\n",
    "x = np.concatenate((np.array([z[:,0]]).T, np.array([z[:,0] + z[:,1]]).T, np.array([z[:,0] + z[:,1] + z[:,2]]).T, np.array([z[:,0] + z[:,1] + z[:,2] + z[:,3]]).T, np.array([z[:,0] + z[:,1] + z[:,2] + z[:,3] + z[:,4]]).T, np.array([z[:,0] + z[:,1] + z[:,2] + z[:,3] + z[:,4] + z[:,5]]).T, np.array([z[:,0] + z[:,1] + z[:,2] + z[:,3] + z[:,4] + z[:,5] + z[:,6]]).T),axis=1)\n",
    "u = np.random.rand(300000,8)\n",
    "v = np.concatenate((x,u), axis=1) # 15 columns"
   ]
  },
  {
   "cell_type": "code",
   "execution_count": 13,
   "metadata": {},
   "outputs": [],
   "source": [
    "L2_8pnt = np.zeros((720, 300000)) # 720 columns\n",
    "for index, perm in enumerate(list(permutations(list(np.arange(6)),6))):\n",
    "    L2_8pnt[index] = np.linalg.norm([v[:,perm[0]], h*(v[:,perm[0]+8]-v[:,7])],axis=0) + np.linalg.norm([(v[:,perm[1]]-v[:,perm[0]]), h*(v[:,perm[1]+8]-v[:,perm[0]+8])],axis=0) + np.linalg.norm([(v[:,perm[2]]-v[:,perm[1]]), h*(v[:,perm[2]+8]-v[:,perm[1]+8])],axis=0) + np.linalg.norm([(v[:,perm[3]]-v[:,perm[2]]), h*(v[:,perm[3]+8]-v[:,perm[2]+8])],axis=0) + np.linalg.norm([(v[:,perm[4]]-v[:,perm[3]]), h*(v[:,perm[4]+8]-v[:,perm[3]+8])],axis=0) + np.linalg.norm([(v[:,perm[5]]-v[:,perm[4]]), h*(v[:,perm[5]+8]-v[:,perm[4]+8])],axis=0) + np.linalg.norm([(v[:,6]-v[:,perm[5]]), h*(v[:,14]-v[:,perm[5]+8])],axis=0)\n",
    "L2_min = L2_8pnt.min(axis=0); L2_argmin = L2_8pnt.argmin(axis=0); L2_default = L2_8pnt[0]\n",
    "matrix = np.concatenate([L2_8pnt,np.array([L2_min, L2_argmin]),np.array([np.divide(L2_min,L2_default)])],axis=0).T"
   ]
  },
  {
   "cell_type": "markdown",
   "metadata": {},
   "source": [
    "### Monte Carlo: 17-dimensional (9 points)"
   ]
  },
  {
   "cell_type": "code",
   "execution_count": 14,
   "metadata": {},
   "outputs": [],
   "source": [
    "# Sampling the 17-dimensional vectors\n",
    "z = np.random.exponential(1, 2400000).reshape(300000,8)\n",
    "x = np.concatenate((np.array([z[:,0]]).T, np.array([z[:,0] + z[:,1]]).T, np.array([z[:,0] + z[:,1] + z[:,2]]).T, np.array([z[:,0] + z[:,1] + z[:,2] + z[:,3]]).T, np.array([z[:,0] + z[:,1] + z[:,2] + z[:,3] + z[:,4]]).T, np.array([z[:,0] + z[:,1] + z[:,2] + z[:,3] + z[:,4] + z[:,5]]).T, np.array([z[:,0] + z[:,1] + z[:,2] + z[:,3] + z[:,4] + z[:,5] + z[:,6]]).T, np.array([z[:,0] + z[:,1] + z[:,2] + z[:,3] + z[:,4] + z[:,5] + z[:,6] + z[:,7]]).T),axis=1)\n",
    "u = np.random.rand(300000,9)\n",
    "v = np.concatenate((x,u), axis=1) # 17 columns"
   ]
  },
  {
   "cell_type": "code",
   "execution_count": 15,
   "metadata": {},
   "outputs": [
    {
     "name": "stdout",
     "output_type": "stream",
     "text": [
      "CPU times: user 2min 55s, sys: 2min 7s, total: 5min 2s\n",
      "Wall time: 8min 6s\n"
     ]
    }
   ],
   "source": [
    "%%time\n",
    "L2_9pnt = np.zeros((5040, 300000)) # 5040 columns\n",
    "for index, perm in enumerate(list(permutations(list(np.arange(7)),7))):\n",
    "    L2_9pnt[index] = np.linalg.norm([v[:,perm[0]], h*(v[:,perm[0]+9]-v[:,8])],axis=0) + np.linalg.norm([(v[:,perm[1]]-v[:,perm[0]]), h*(v[:,perm[1]+9]-v[:,perm[0]+9])],axis=0) + np.linalg.norm([(v[:,perm[2]]-v[:,perm[1]]), h*(v[:,perm[2]+9]-v[:,perm[1]+9])],axis=0) + np.linalg.norm([(v[:,perm[3]]-v[:,perm[2]]), h*(v[:,perm[3]+9]-v[:,perm[2]+9])],axis=0) + np.linalg.norm([(v[:,perm[4]]-v[:,perm[3]]), h*(v[:,perm[4]+9]-v[:,perm[3]+9])],axis=0) + np.linalg.norm([(v[:,perm[5]]-v[:,perm[4]]), h*(v[:,perm[5]+9]-v[:,perm[4]+9])],axis=0) + np.linalg.norm([(v[:,perm[6]]-v[:,perm[5]]), h*(v[:,perm[6]+9]-v[:,perm[5]+9])],axis=0) + np.linalg.norm([(v[:,7]-v[:,perm[6]]), h*(v[:,16]-v[:,perm[6]+9])],axis=0)\n",
    "L2_min = L2_9pnt.min(axis=0); L2_argmin = L2_9pnt.argmin(axis=0); L2_default = L2_9pnt[0]\n",
    "matrix = np.concatenate([L2_9pnt,np.array([L2_min, L2_argmin]),np.array([np.divide(L2_min,L2_default)])],axis=0).T"
   ]
  },
  {
   "cell_type": "markdown",
   "metadata": {},
   "source": [
    "### Monte Carlo: 19-dimensional (10 points)"
   ]
  },
  {
   "cell_type": "code",
   "execution_count": 16,
   "metadata": {},
   "outputs": [],
   "source": [
    "# Sampling the 19-dimensional vectors\n",
    "z = np.random.exponential(1, 270000).reshape(30000,9)\n",
    "x = np.concatenate((np.array([z[:,0]]).T, np.array([z[:,0] + z[:,1]]).T, np.array([z[:,0] + z[:,1] + z[:,2]]).T, np.array([z[:,0] + z[:,1] + z[:,2] + z[:,3]]).T, np.array([z[:,0] + z[:,1] + z[:,2] + z[:,3] + z[:,4]]).T, np.array([z[:,0] + z[:,1] + z[:,2] + z[:,3] + z[:,4] + z[:,5]]).T, np.array([z[:,0] + z[:,1] + z[:,2] + z[:,3] + z[:,4] + z[:,5] + z[:,6]]).T, np.array([z[:,0] + z[:,1] + z[:,2] + z[:,3] + z[:,4] + z[:,5] + z[:,6] + z[:,7]]).T, np.array([z[:,0] + z[:,1] + z[:,2] + z[:,3] + z[:,4] + z[:,5] + z[:,6] + z[:,7] + z[:,8]]).T),axis=1)\n",
    "u = np.random.rand(30000,10)\n",
    "v = np.concatenate((x,u), axis=1) # 19 columns"
   ]
  },
  {
   "cell_type": "code",
   "execution_count": null,
   "metadata": {},
   "outputs": [],
   "source": [
    "%%time\n",
    "L2_10pnt = np.zeros((40320, 30000)) # 40320 columns\n",
    "for index, perm in enumerate(list(permutations(list(np.arange(8)),8))):\n",
    "    L2_10pnt[index] = np.linalg.norm([v[:,perm[0]], h*(v[:,perm[0]+10]-v[:,9])],axis=0) + np.linalg.norm([(v[:,perm[1]]-v[:,perm[0]]), h*(v[:,perm[1]+10]-v[:,perm[0]+10])],axis=0) + np.linalg.norm([(v[:,perm[2]]-v[:,perm[1]]), h*(v[:,perm[2]+10]-v[:,perm[1]+10])],axis=0) + np.linalg.norm([(v[:,perm[3]]-v[:,perm[2]]), h*(v[:,perm[3]+10]-v[:,perm[2]+10])],axis=0) + np.linalg.norm([(v[:,perm[4]]-v[:,perm[3]]), h*(v[:,perm[4]+10]-v[:,perm[3]+10])],axis=0) + np.linalg.norm([(v[:,perm[5]]-v[:,perm[4]]), h*(v[:,perm[5]+10]-v[:,perm[4]+10])],axis=0) + np.linalg.norm([(v[:,perm[6]]-v[:,perm[5]]), h*(v[:,perm[6]+10]-v[:,perm[5]+10])],axis=0) + np.linalg.norm([(v[:,perm[7]]-v[:,perm[6]]), h*(v[:,perm[7]+10]-v[:,perm[6]+10])],axis=0) + np.linalg.norm([(v[:,8]-v[:,perm[7]]), h*(v[:,18]-v[:,perm[7]+10])],axis=0)\n",
    "L2_min = L2_10pnt.min(axis=0); L2_argmin = L2_10pnt.argmin(axis=0); L2_default = L2_10pnt[0]\n",
    "matrix = np.concatenate([L2_10pnt,np.array([L2_min, L2_argmin]),np.array([np.divide(L2_min,L2_default)])],axis=0).T"
   ]
  },
  {
   "cell_type": "code",
   "execution_count": 18,
   "metadata": {},
   "outputs": [
    {
     "data": {
      "text/plain": [
       "<matplotlib.legend.Legend at 0x1354a81c0>"
      ]
     },
     "execution_count": 18,
     "metadata": {},
     "output_type": "execute_result"
    },
    {
     "data": {
      "image/png": "[encoded data removed]",
      "text/plain": [
       "<Figure size 864x432 with 1 Axes>"
      ]
     },
     "metadata": {
      "needs_background": "light"
     },
     "output_type": "display_data"
    }
   ],
   "source": [
    "# Theoretical saving limit as n increases\n",
    "n_pnt = [3,4,5,6,7,8,9]\n",
    "h3 = [0.90145,0.88992,0.88329,0.87991,0.87755,0.87506,0.87330]\n",
    "h3_5 = [0.89971,0.88549,0.87664,0.87181,0.86761,0.86569,0.86542]\n",
    "h4 = [0.90382,0.88487,0.87419,0.86763,0.86319,0.86016,0.85779]\n",
    "h4_5 = [0.91142,0.88842,0.87550,0.86786,0.86140,0.85764,0.85369]\n",
    "h5 = [0.92160,0.89523,0.87874,0.86887,0.86228,0.85757,0.85208]\n",
    "h5_5 = [0.93400,0.90329,0.88335,0.87117,0.86381,0.85867,0.85493]\n",
    "h_def = [0.92116,0.92116,0.92116,0.92116,0.92116,0.92116,0.92116]\n",
    "\n",
    "plt.figure(figsize = (12,6))\n",
    "plt.plot(n_pnt, h3, ':', label = '$h^2$ = 3', color = 'r')\n",
    "plt.plot(n_pnt, h3_5, ':', label = '$h^2$ = 3.5', color = 'y')\n",
    "plt.plot(n_pnt, h4, '-.', label = '$h^2$ = 4', color = 'g')\n",
    "plt.plot(n_pnt, h4_5, '-.', label = '$h^2$ = 4.5', color = 'c')\n",
    "plt.plot(n_pnt, h5, '--', label = '$h^2$ = 5', color = 'b')\n",
    "plt.plot(n_pnt, h5_5, '--', label = '$h^2$ = 5.5', color = 'm')\n",
    "plt.plot(n_pnt, h_def, '--', label = 'BHH (1959)', color = 'black')\n",
    "\n",
    "plt.xlabel('$k$'); plt.ylabel('simulated upper bound')\n",
    "plt.title('Theoretical improvement limit as $k$ increases')\n",
    "plt.legend(loc = 1)"
   ]
  },
  {
   "cell_type": "markdown",
   "metadata": {},
   "source": [
    "### Selection of different $h$"
   ]
  },
  {
   "cell_type": "markdown",
   "metadata": {},
   "source": [
    "$$h^2 = 3$$"
   ]
  },
  {
   "cell_type": "code",
   "execution_count": 4,
   "metadata": {},
   "outputs": [
    {
     "name": "stdout",
     "output_type": "stream",
     "text": [
      "0.9803970589284107\n",
      "0.9212151551743025\n",
      "0.9014517444153906\n"
     ]
    }
   ],
   "source": [
    "# 4-point scenario (3,000,000)\n",
    "print(np.mean(matrix[:,-1]))\n",
    "print(np.mean(matrix[:,-5])/np.sqrt(h)/3)\n",
    "print(np.mean(matrix[:,-3])/np.sqrt(h)/3)"
   ]
  },
  {
   "cell_type": "code",
   "execution_count": 5,
   "metadata": {},
   "outputs": [
    {
     "name": "stdout",
     "output_type": "stream",
     "text": [
      "0.967815466529974\n",
      "0.9207769943689615\n",
      "0.8899155542358312\n"
     ]
    }
   ],
   "source": [
    "# 5-point scenario\n",
    "print(np.mean(matrix[:,-1]))\n",
    "print(np.mean(matrix[:,-9])/np.sqrt(h)/4)\n",
    "print(np.mean(matrix[:,-3])/np.sqrt(h)/4)"
   ]
  },
  {
   "cell_type": "code",
   "execution_count": 9,
   "metadata": {},
   "outputs": [
    {
     "name": "stdout",
     "output_type": "stream",
     "text": [
      "0.9603746353558998\n",
      "0.9205249274764696\n",
      "0.8832943738135881\n"
     ]
    }
   ],
   "source": [
    "# 6-point scenario\n",
    "print(np.mean(matrix[:,-1]))\n",
    "print(np.mean(matrix[:,-27])/np.sqrt(h)/5)\n",
    "print(np.mean(matrix[:,-3])/np.sqrt(h)/5)"
   ]
  },
  {
   "cell_type": "code",
   "execution_count": 12,
   "metadata": {},
   "outputs": [
    {
     "name": "stdout",
     "output_type": "stream",
     "text": [
      "0.9561670035003071\n",
      "0.920738926889385\n",
      "0.8799149586288245\n"
     ]
    }
   ],
   "source": [
    "# 7-point scenario\n",
    "print(np.mean(matrix[:,-1]))\n",
    "print(np.mean(matrix[:,-123])/np.sqrt(h)/6)\n",
    "print(np.mean(matrix[:,-3])/np.sqrt(h)/6)"
   ]
  },
  {
   "cell_type": "code",
   "execution_count": 16,
   "metadata": {},
   "outputs": [
    {
     "name": "stdout",
     "output_type": "stream",
     "text": [
      "0.9529518909182431\n",
      "0.9211842212875245\n",
      "0.8775473681497118\n"
     ]
    }
   ],
   "source": [
    "# 8-point scenario\n",
    "print(np.mean(matrix[:,-1]))\n",
    "print(np.mean(matrix[:,-723])/np.sqrt(h)/7)\n",
    "print(np.mean(matrix[:,-3])/np.sqrt(h)/7)"
   ]
  },
  {
   "cell_type": "code",
   "execution_count": 20,
   "metadata": {},
   "outputs": [
    {
     "name": "stdout",
     "output_type": "stream",
     "text": [
      "0.9508400249684397\n",
      "0.9205404086096188\n",
      "0.8750611888522475\n"
     ]
    }
   ],
   "source": [
    "# 9-point scenario (300,000)\n",
    "print(np.mean(matrix[:,-1]))\n",
    "print(np.mean(matrix[:,-5043])/np.sqrt(h)/8)\n",
    "print(np.mean(matrix[:,-3])/np.sqrt(h)/8)"
   ]
  },
  {
   "cell_type": "code",
   "execution_count": 4,
   "metadata": {},
   "outputs": [
    {
     "name": "stdout",
     "output_type": "stream",
     "text": [
      "0.9495306163031475\n",
      "0.9198007360012515\n",
      "0.8732986189516927\n"
     ]
    }
   ],
   "source": [
    "# 10-point scenario (30,000)\n",
    "print(np.mean(matrix[:,-1]))\n",
    "print(np.mean(matrix[:,-40323])/np.sqrt(h)/9)\n",
    "print(np.mean(matrix[:,-3])/np.sqrt(h)/9)"
   ]
  },
  {
   "cell_type": "markdown",
   "metadata": {},
   "source": [
    "$$h^2 = 3.5$$"
   ]
  },
  {
   "cell_type": "code",
   "execution_count": 8,
   "metadata": {},
   "outputs": [
    {
     "name": "stdout",
     "output_type": "stream",
     "text": [
      "0.9761826392888164\n",
      "0.9249753559175495\n",
      "0.899707178359968\n"
     ]
    }
   ],
   "source": [
    "# 4-point scenario\n",
    "print(np.mean(matrix[:,-1]))\n",
    "print(np.mean(matrix[:,-5])/np.sqrt(h)/3)\n",
    "print(np.mean(matrix[:,-3])/np.sqrt(h)/3)"
   ]
  },
  {
   "cell_type": "code",
   "execution_count": 43,
   "metadata": {},
   "outputs": [
    {
     "name": "stdout",
     "output_type": "stream",
     "text": [
      "0.9599485398275663\n",
      "0.9254959782767878\n",
      "0.8854862091608126\n"
     ]
    }
   ],
   "source": [
    "# 5-point scenario\n",
    "print(np.mean(matrix[:,-1]))\n",
    "print(np.mean(matrix[:,-9])/np.sqrt(h)/4)\n",
    "print(np.mean(matrix[:,-3])/np.sqrt(h)/4)"
   ]
  },
  {
   "cell_type": "code",
   "execution_count": 47,
   "metadata": {},
   "outputs": [
    {
     "name": "stdout",
     "output_type": "stream",
     "text": [
      "0.9501986214886478\n",
      "0.9251546679664473\n",
      "0.8766396412137759\n"
     ]
    }
   ],
   "source": [
    "# 6-point scenario\n",
    "print(np.mean(matrix[:,-1]))\n",
    "print(np.mean(matrix[:,-27])/np.sqrt(h)/5)\n",
    "print(np.mean(matrix[:,-3])/np.sqrt(h)/5)"
   ]
  },
  {
   "cell_type": "code",
   "execution_count": 50,
   "metadata": {},
   "outputs": [
    {
     "name": "stdout",
     "output_type": "stream",
     "text": [
      "0.9440769763162096\n",
      "0.9255341282739673\n",
      "0.8718098367675865\n"
     ]
    }
   ],
   "source": [
    "# 7-point scenario\n",
    "print(np.mean(matrix[:,-1]))\n",
    "print(np.mean(matrix[:,-123])/np.sqrt(h)/6)\n",
    "print(np.mean(matrix[:,-3])/np.sqrt(h)/6)"
   ]
  },
  {
   "cell_type": "code",
   "execution_count": 53,
   "metadata": {},
   "outputs": [
    {
     "name": "stdout",
     "output_type": "stream",
     "text": [
      "0.9400431391166997\n",
      "0.9246706041313023\n",
      "0.8676060077024844\n"
     ]
    }
   ],
   "source": [
    "# 8-point scenario\n",
    "print(np.mean(matrix[:,-1]))\n",
    "print(np.mean(matrix[:,-723])/np.sqrt(h)/7)\n",
    "print(np.mean(matrix[:,-3])/np.sqrt(h)/7)"
   ]
  },
  {
   "cell_type": "code",
   "execution_count": 56,
   "metadata": {},
   "outputs": [
    {
     "name": "stdout",
     "output_type": "stream",
     "text": [
      "0.9372702188190001\n",
      "0.9251059183562813\n",
      "0.8656930359811175\n"
     ]
    }
   ],
   "source": [
    "# 9-point scenario\n",
    "print(np.mean(matrix[:,-1]))\n",
    "print(np.mean(matrix[:,-5043])/np.sqrt(h)/8)\n",
    "print(np.mean(matrix[:,-3])/np.sqrt(h)/8)"
   ]
  },
  {
   "cell_type": "code",
   "execution_count": 4,
   "metadata": {},
   "outputs": [
    {
     "name": "stdout",
     "output_type": "stream",
     "text": [
      "0.935105845009328\n",
      "0.926795997639003\n",
      "0.8654193594474449\n"
     ]
    }
   ],
   "source": [
    "# 10-point scenario\n",
    "print(np.mean(matrix[:,-1]))\n",
    "print(np.mean(matrix[:,-40323])/np.sqrt(h)/9)\n",
    "print(np.mean(matrix[:,-3])/np.sqrt(h)/9)"
   ]
  },
  {
   "cell_type": "markdown",
   "metadata": {},
   "source": [
    "$$h^2 = 4$$"
   ]
  },
  {
   "cell_type": "code",
   "execution_count": 12,
   "metadata": {},
   "outputs": [
    {
     "name": "stdout",
     "output_type": "stream",
     "text": [
      "0.9720982055857165\n",
      "0.9347776537477858\n",
      "0.903817147262893\n"
     ]
    }
   ],
   "source": [
    "# 4-point scenario\n",
    "print(np.mean(matrix[:,-1]))\n",
    "print(np.mean(matrix[:,-5])/np.sqrt(h)/3)\n",
    "print(np.mean(matrix[:,-3])/np.sqrt(h)/3)"
   ]
  },
  {
   "cell_type": "code",
   "execution_count": 25,
   "metadata": {},
   "outputs": [
    {
     "name": "stdout",
     "output_type": "stream",
     "text": [
      "0.9522123036969032\n",
      "0.9344538790056358\n",
      "0.8848656001167928\n"
     ]
    }
   ],
   "source": [
    "# 5-point scenario\n",
    "print(np.mean(matrix[:,-1]))\n",
    "print(np.mean(matrix[:,-9])/np.sqrt(h)/4)\n",
    "print(np.mean(matrix[:,-3])/np.sqrt(h)/4)"
   ]
  },
  {
   "cell_type": "code",
   "execution_count": 29,
   "metadata": {},
   "outputs": [
    {
     "name": "stdout",
     "output_type": "stream",
     "text": [
      "0.939671992303166\n",
      "0.934865856241202\n",
      "0.8741897876225393\n"
     ]
    }
   ],
   "source": [
    "# 6-point scenario\n",
    "print(np.mean(matrix[:,-1]))\n",
    "print(np.mean(matrix[:,-27])/np.sqrt(h)/5)\n",
    "print(np.mean(matrix[:,-3])/np.sqrt(h)/5)"
   ]
  },
  {
   "cell_type": "code",
   "execution_count": 32,
   "metadata": {},
   "outputs": [
    {
     "name": "stdout",
     "output_type": "stream",
     "text": [
      "0.9322862762235548\n",
      "0.934508195327187\n",
      "0.8676278346096192\n"
     ]
    }
   ],
   "source": [
    "# 7-point scenario\n",
    "print(np.mean(matrix[:,-1]))\n",
    "print(np.mean(matrix[:,-123])/np.sqrt(h)/6)\n",
    "print(np.mean(matrix[:,-3])/np.sqrt(h)/6)"
   ]
  },
  {
   "cell_type": "code",
   "execution_count": 35,
   "metadata": {},
   "outputs": [
    {
     "name": "stdout",
     "output_type": "stream",
     "text": [
      "0.9269322581744632\n",
      "0.9346429249389263\n",
      "0.8631949625313412\n"
     ]
    }
   ],
   "source": [
    "# 8-point scenario\n",
    "print(np.mean(matrix[:,-1]))\n",
    "print(np.mean(matrix[:,-723])/np.sqrt(h)/7)\n",
    "print(np.mean(matrix[:,-3])/np.sqrt(h)/7)"
   ]
  },
  {
   "cell_type": "code",
   "execution_count": 38,
   "metadata": {},
   "outputs": [
    {
     "name": "stdout",
     "output_type": "stream",
     "text": [
      "0.9227952593944916\n",
      "0.9351326680660358\n",
      "0.8601597409132681\n"
     ]
    }
   ],
   "source": [
    "# 9-point scenario\n",
    "print(np.mean(matrix[:,-1]))\n",
    "print(np.mean(matrix[:,-5043])/np.sqrt(h)/8)\n",
    "print(np.mean(matrix[:,-3])/np.sqrt(h)/8)"
   ]
  },
  {
   "cell_type": "code",
   "execution_count": 4,
   "metadata": {},
   "outputs": [
    {
     "name": "stdout",
     "output_type": "stream",
     "text": [
      "0.9196108383260574\n",
      "0.9354346355874239\n",
      "0.8577876836577676\n"
     ]
    }
   ],
   "source": [
    "# 10-point scenario\n",
    "print(np.mean(matrix[:,-1]))\n",
    "print(np.mean(matrix[:,-40323])/np.sqrt(h)/9)\n",
    "print(np.mean(matrix[:,-3])/np.sqrt(h)/9)"
   ]
  },
  {
   "cell_type": "markdown",
   "metadata": {},
   "source": [
    "$$h^2 = 4.5$$"
   ]
  },
  {
   "cell_type": "code",
   "execution_count": 16,
   "metadata": {},
   "outputs": [
    {
     "name": "stdout",
     "output_type": "stream",
     "text": [
      "0.9682403030835509\n",
      "0.9481279755613943\n",
      "0.9114245722388019\n"
     ]
    }
   ],
   "source": [
    "# 4-point scenario\n",
    "print(np.mean(matrix[:,-1]))\n",
    "print(np.mean(matrix[:,-5])/np.sqrt(h)/3)\n",
    "print(np.mean(matrix[:,-3])/np.sqrt(h)/3)"
   ]
  },
  {
   "cell_type": "code",
   "execution_count": 61,
   "metadata": {},
   "outputs": [
    {
     "name": "stdout",
     "output_type": "stream",
     "text": [
      "0.94458302346642\n",
      "0.9479340609126631\n",
      "0.8884195804572048\n"
     ]
    }
   ],
   "source": [
    "# 5-point scenario\n",
    "print(np.mean(matrix[:,-1]))\n",
    "print(np.mean(matrix[:,-9])/np.sqrt(h)/4)\n",
    "print(np.mean(matrix[:,-3])/np.sqrt(h)/4)"
   ]
  },
  {
   "cell_type": "code",
   "execution_count": 65,
   "metadata": {},
   "outputs": [
    {
     "name": "stdout",
     "output_type": "stream",
     "text": [
      "0.9295391114030472\n",
      "0.9485533985269422\n",
      "0.8754981583391332\n"
     ]
    }
   ],
   "source": [
    "# 6-point scenario\n",
    "print(np.mean(matrix[:,-1]))\n",
    "print(np.mean(matrix[:,-27])/np.sqrt(h)/5)\n",
    "print(np.mean(matrix[:,-3])/np.sqrt(h)/5)"
   ]
  },
  {
   "cell_type": "code",
   "execution_count": 68,
   "metadata": {},
   "outputs": [
    {
     "name": "stdout",
     "output_type": "stream",
     "text": [
      "0.9202464807195562\n",
      "0.9490151338220937\n",
      "0.8678624345158942\n"
     ]
    }
   ],
   "source": [
    "# 7-point scenario\n",
    "print(np.mean(matrix[:,-1]))\n",
    "print(np.mean(matrix[:,-123])/np.sqrt(h)/6)\n",
    "print(np.mean(matrix[:,-3])/np.sqrt(h)/6)"
   ]
  },
  {
   "cell_type": "code",
   "execution_count": 71,
   "metadata": {},
   "outputs": [
    {
     "name": "stdout",
     "output_type": "stream",
     "text": [
      "0.9136648842479518\n",
      "0.9480183188069835\n",
      "0.8613984485790206\n"
     ]
    }
   ],
   "source": [
    "# 8-point scenario\n",
    "print(np.mean(matrix[:,-1]))\n",
    "print(np.mean(matrix[:,-723])/np.sqrt(h)/7)\n",
    "print(np.mean(matrix[:,-3])/np.sqrt(h)/7)"
   ]
  },
  {
   "cell_type": "code",
   "execution_count": 74,
   "metadata": {},
   "outputs": [
    {
     "name": "stdout",
     "output_type": "stream",
     "text": [
      "0.9088611099402422\n",
      "0.9483907226895688\n",
      "0.8576433582582565\n"
     ]
    }
   ],
   "source": [
    "# 9-point scenario\n",
    "print(np.mean(matrix[:,-1]))\n",
    "print(np.mean(matrix[:,-5043])/np.sqrt(h)/8)\n",
    "print(np.mean(matrix[:,-3])/np.sqrt(h)/8)"
   ]
  },
  {
   "cell_type": "code",
   "execution_count": 4,
   "metadata": {},
   "outputs": [
    {
     "name": "stdout",
     "output_type": "stream",
     "text": [
      "0.9055806240324619\n",
      "0.9468365486568712\n",
      "0.8536888014073896\n"
     ]
    }
   ],
   "source": [
    "# 10-point scenario\n",
    "print(np.mean(matrix[:,-1]))\n",
    "print(np.mean(matrix[:,-40323])/np.sqrt(h)/9)\n",
    "print(np.mean(matrix[:,-3])/np.sqrt(h)/9)"
   ]
  },
  {
   "cell_type": "markdown",
   "metadata": {},
   "source": [
    "$$h^2 = 5$$"
   ]
  },
  {
   "cell_type": "code",
   "execution_count": 20,
   "metadata": {},
   "outputs": [
    {
     "name": "stdout",
     "output_type": "stream",
     "text": [
      "0.9646460443955165\n",
      "0.963975123732476\n",
      "0.9216021160371186\n"
     ]
    }
   ],
   "source": [
    "# 4-point scenario\n",
    "print(np.mean(matrix[:,-1]))\n",
    "print(np.mean(matrix[:,-5])/np.sqrt(h)/3)\n",
    "print(np.mean(matrix[:,-3])/np.sqrt(h)/3)"
   ]
  },
  {
   "cell_type": "code",
   "execution_count": 5,
   "metadata": {},
   "outputs": [
    {
     "name": "stdout",
     "output_type": "stream",
     "text": [
      "0.9372516421049675\n",
      "0.9649241077742488\n",
      "0.8952290687404781\n"
     ]
    }
   ],
   "source": [
    "# 5-point scenario\n",
    "print(np.mean(matrix[:,-1]))\n",
    "print(np.mean(matrix[:,-9])/np.sqrt(h)/4)\n",
    "print(np.mean(matrix[:,-3])/np.sqrt(h)/4)"
   ]
  },
  {
   "cell_type": "code",
   "execution_count": 9,
   "metadata": {},
   "outputs": [
    {
     "name": "stdout",
     "output_type": "stream",
     "text": [
      "0.9196026958707714\n",
      "0.9645935605541981\n",
      "0.8787439315440861\n"
     ]
    }
   ],
   "source": [
    "# 6-point scenario\n",
    "print(np.mean(matrix[:,-1]))\n",
    "print(np.mean(matrix[:,-27])/np.sqrt(h)/5)\n",
    "print(np.mean(matrix[:,-3])/np.sqrt(h)/5)"
   ]
  },
  {
   "cell_type": "code",
   "execution_count": 12,
   "metadata": {},
   "outputs": [
    {
     "name": "stdout",
     "output_type": "stream",
     "text": [
      "0.9082374512701636\n",
      "0.9648120626192558\n",
      "0.8688731122921403\n"
     ]
    }
   ],
   "source": [
    "# 7-point scenario\n",
    "print(np.mean(matrix[:,-1]))\n",
    "print(np.mean(matrix[:,-123])/np.sqrt(h)/6)\n",
    "print(np.mean(matrix[:,-3])/np.sqrt(h)/6)"
   ]
  },
  {
   "cell_type": "code",
   "execution_count": 15,
   "metadata": {},
   "outputs": [
    {
     "name": "stdout",
     "output_type": "stream",
     "text": [
      "0.9010364800649732\n",
      "0.9641944459252751\n",
      "0.862275999685728\n"
     ]
    }
   ],
   "source": [
    "# 8-point scenario\n",
    "print(np.mean(matrix[:,-1]))\n",
    "print(np.mean(matrix[:,-723])/np.sqrt(h)/7)\n",
    "print(np.mean(matrix[:,-3])/np.sqrt(h)/7)"
   ]
  },
  {
   "cell_type": "code",
   "execution_count": 18,
   "metadata": {},
   "outputs": [
    {
     "name": "stdout",
     "output_type": "stream",
     "text": [
      "0.8950230826196965\n",
      "0.9646606108391038\n",
      "0.8575710380578203\n"
     ]
    }
   ],
   "source": [
    "# 9-point scenario\n",
    "print(np.mean(matrix[:,-1]))\n",
    "print(np.mean(matrix[:,-5043])/np.sqrt(h)/8)\n",
    "print(np.mean(matrix[:,-3])/np.sqrt(h)/8)"
   ]
  },
  {
   "cell_type": "code",
   "execution_count": 4,
   "metadata": {},
   "outputs": [
    {
     "name": "stdout",
     "output_type": "stream",
     "text": [
      "0.8901439128280316\n",
      "0.9633032473631251\n",
      "0.8520771731558409\n"
     ]
    }
   ],
   "source": [
    "# 10-point scenario\n",
    "print(np.mean(matrix[:,-1]))\n",
    "print(np.mean(matrix[:,-40323])/np.sqrt(h)/9)\n",
    "print(np.mean(matrix[:,-3])/np.sqrt(h)/9)"
   ]
  },
  {
   "cell_type": "markdown",
   "metadata": {},
   "source": [
    "$$h^2 = 5.5$$"
   ]
  },
  {
   "cell_type": "code",
   "execution_count": 24,
   "metadata": {},
   "outputs": [
    {
     "name": "stdout",
     "output_type": "stream",
     "text": [
      "0.9612328662016216\n",
      "0.9821040684463692\n",
      "0.9340035866507858\n"
     ]
    }
   ],
   "source": [
    "# 4-point scenario\n",
    "print(np.mean(matrix[:,-1]))\n",
    "print(np.mean(matrix[:,-5])/np.sqrt(h)/3)\n",
    "print(np.mean(matrix[:,-3])/np.sqrt(h)/3)"
   ]
  },
  {
   "cell_type": "code",
   "execution_count": 23,
   "metadata": {},
   "outputs": [
    {
     "name": "stdout",
     "output_type": "stream",
     "text": [
      "0.9301464626546379\n",
      "0.9833450922526649\n",
      "0.9032930795150935\n"
     ]
    }
   ],
   "source": [
    "# 5-point scenario\n",
    "print(np.mean(matrix[:,-1]))\n",
    "print(np.mean(matrix[:,-9])/np.sqrt(h)/4)\n",
    "print(np.mean(matrix[:,-3])/np.sqrt(h)/4)"
   ]
  },
  {
   "cell_type": "code",
   "execution_count": 27,
   "metadata": {},
   "outputs": [
    {
     "name": "stdout",
     "output_type": "stream",
     "text": [
      "0.9103371368171866\n",
      "0.9818172930144652\n",
      "0.8833452749179136\n"
     ]
    }
   ],
   "source": [
    "# 6-point scenario\n",
    "print(np.mean(matrix[:,-1]))\n",
    "print(np.mean(matrix[:,-27])/np.sqrt(h)/5)\n",
    "print(np.mean(matrix[:,-3])/np.sqrt(h)/5)"
   ]
  },
  {
   "cell_type": "code",
   "execution_count": 30,
   "metadata": {},
   "outputs": [
    {
     "name": "stdout",
     "output_type": "stream",
     "text": [
      "0.8966567383581105\n",
      "0.9819552969288132\n",
      "0.8711697089532415\n"
     ]
    }
   ],
   "source": [
    "# 7-point scenario\n",
    "print(np.mean(matrix[:,-1]))\n",
    "print(np.mean(matrix[:,-123])/np.sqrt(h)/6)\n",
    "print(np.mean(matrix[:,-3])/np.sqrt(h)/6)"
   ]
  },
  {
   "cell_type": "code",
   "execution_count": 33,
   "metadata": {},
   "outputs": [
    {
     "name": "stdout",
     "output_type": "stream",
     "text": [
      "0.8880775196114203\n",
      "0.981949255665081\n",
      "0.8638053126720193\n"
     ]
    }
   ],
   "source": [
    "# 8-point scenario\n",
    "print(np.mean(matrix[:,-1]))\n",
    "print(np.mean(matrix[:,-723])/np.sqrt(h)/7)\n",
    "print(np.mean(matrix[:,-3])/np.sqrt(h)/7)"
   ]
  },
  {
   "cell_type": "code",
   "execution_count": 36,
   "metadata": {},
   "outputs": [
    {
     "name": "stdout",
     "output_type": "stream",
     "text": [
      "0.8817669716817093\n",
      "0.9821808736378903\n",
      "0.8586734790877797\n"
     ]
    }
   ],
   "source": [
    "# 9-point scenario\n",
    "print(np.mean(matrix[:,-1]))\n",
    "print(np.mean(matrix[:,-5043])/np.sqrt(h)/8)\n",
    "print(np.mean(matrix[:,-3])/np.sqrt(h)/8)"
   ]
  },
  {
   "cell_type": "code",
   "execution_count": 4,
   "metadata": {},
   "outputs": [
    {
     "name": "stdout",
     "output_type": "stream",
     "text": [
      "0.8764443015251163\n",
      "0.9829484299362579\n",
      "0.8549281489088352\n"
     ]
    }
   ],
   "source": [
    "# 10-point scenario\n",
    "print(np.mean(matrix[:,-1]))\n",
    "print(np.mean(matrix[:,-40323])/np.sqrt(h)/9)\n",
    "print(np.mean(matrix[:,-3])/np.sqrt(h)/9)"
   ]
  },
  {
   "cell_type": "code",
   "execution_count": 19,
   "metadata": {},
   "outputs": [
    {
     "data": {
      "text/plain": [
       "<matplotlib.legend.Legend at 0x13572b370>"
      ]
     },
     "execution_count": 19,
     "metadata": {},
     "output_type": "execute_result"
    },
    {
     "data": {
      "image/png": "[encoded data removed]",
      "text/plain": [
       "<Figure size 864x432 with 2 Axes>"
      ]
     },
     "metadata": {
      "needs_background": "light"
     },
     "output_type": "display_data"
    }
   ],
   "source": [
    "xlog = [2.00,2.25,2.50,2.75,3.00,3.25,3.50,3.75,4.00,4.25,4.50]\n",
    "base = [0.9211597,0.9211597,0.9211597,0.9211597,0.9211597,0.9211597,0.9211597,0.9211597,0.9211597,0.9211597,0.9211597]\n",
    "best = [0.933242598,0.918985673,0.910574718,0.906506612,0.90576278,0.907511081,0.911366217,0.916604958,0.922696243,0.929460026,0.937516275]\n",
    "avg = [0.933856137,0.91958918,0.911191476,0.907010849,0.906183727,0.908389058,0.912251672,0.916900278,0.922916945,0.930208842,0.938058124]\n",
    "worst = [0.934079511,0.919816338,0.911370534,0.907253259,0.906913338,0.908744201,0.91256698,0.917168794,0.923181286,0.93038098,0.938241448]\n",
    "time = [2.49,2.76,2.92,3.09,3.16,3.43,3.56,3.65,3.72,3.91,3.94]\n",
    "\n",
    "fig, ax1 = plt.subplots(figsize = (12,6))\n",
    "ax1.plot(xlog, base, '--', label = 'Steinerberger (2015)', color = 'black')\n",
    "ax1.plot(xlog, best, color = 'red', label = 'Yu-Carlsson best')\n",
    "ax1.plot(xlog, avg, color = 'blue', label = 'Yu-Carlsson average')\n",
    "ax1.plot(xlog, worst, color = 'purple', label = 'Yu-Carlsson worst')\n",
    "ax1.fill_between(xlog, worst, best, color = 'yellow', alpha = 0.5)\n",
    "ax1.set_xlabel('$h^2$'); ax1.set_ylabel('new upper bound')\n",
    "ax1.set_title('New Upper Bound of Beta2 (k = 4, N = 10000000)')\n",
    "\n",
    "ax2 = ax1.twinx()\n",
    "ax2.bar(xlog, time, color = 'orange', alpha = 0.5, width = 0.1, label = 'Average scaled time')\n",
    "ax2.set_ylim([2,5])\n",
    "ax2.set_ylabel('computation time (days)')\n",
    "\n",
    "ax1.set_xticks(xlog)\n",
    "ax1.set_xticklabels(['2.00', '2.25', '2.50', '2.75', '3.00', '3.25', '3.50', '3.75', '4.00', '4.25', '4.50'])\n",
    "ax1.legend(loc = 1)\n",
    "ax2.legend(loc = (0.781,0.745))"
   ]
  },
  {
   "cell_type": "markdown",
   "metadata": {},
   "source": [
    "### New upper bound vs sample size $N$"
   ]
  },
  {
   "cell_type": "code",
   "execution_count": 20,
   "metadata": {},
   "outputs": [
    {
     "data": {
      "text/plain": [
       "<matplotlib.legend.Legend at 0x135481cd0>"
      ]
     },
     "execution_count": 20,
     "metadata": {},
     "output_type": "execute_result"
    },
    {
     "data": {
      "image/png": "[encoded data removed]",
      "text/plain": [
       "<Figure size 864x432 with 2 Axes>"
      ]
     },
     "metadata": {
      "needs_background": "light"
     },
     "output_type": "display_data"
    }
   ],
   "source": [
    "xlog = np.arange(5)\n",
    "base = [0.9211597,0.9211597,0.9211597,0.9211597,0.9211597]\n",
    "avg = [0.921160266-7.19414E-05,0.921160266-0.000897839,0.921160266-0.004020332,0.921160266-0.009165043,0.921160266-0.014976539]\n",
    "best = [0.921160266-0.000128043,0.921160266-0.001219098,0.921160266-0.004273063,0.921160266-0.009448027,0.921160266-0.015397486]\n",
    "worst = [0.921160266-5.52032E-06,0.921160266-0.00066902,0.921160266-0.00362157,0.921160266-0.009013356,0.921160266-0.014246928]\n",
    "time = [42,358,3.06E03,2.42E04,1.75E05]\n",
    "\n",
    "fig, ax1 = plt.subplots(figsize = (12,6))\n",
    "ax1.plot(xlog, base, '--', label = 'Steinerberger (2015)', color = 'black')\n",
    "ax1.plot(xlog, best, color = 'red', label = 'Yu-Carlsson best')\n",
    "ax1.plot(xlog, avg, color = 'blue', label = 'Yu-Carlsson average')\n",
    "ax1.plot(xlog, worst, color = 'purple', label = 'Yu-Carlsson worst')\n",
    "ax1.fill_between(xlog, worst, best, color = 'yellow', alpha = 0.5)\n",
    "ax1.set_xlabel('N (sample size)'); ax1.set_ylabel('new upper bound')\n",
    "ax1.set_title('New Upper Bound of Beta2 (k = 4, $h^2$ = 3)')\n",
    "\n",
    "ax2 = ax1.twinx()\n",
    "ax2.bar(xlog, time, color = 'orange', alpha = 0.5, width = 0.2, label = 'Average scaled time')\n",
    "ax2.set_ylim([1E01,1E07])\n",
    "ax2.set_ylabel('log computation time (seconds)')\n",
    "ax2.set_yscale('log')\n",
    "\n",
    "ax1.set_xticks(xlog)\n",
    "ax1.set_xticklabels(['$10^3$', '$10^4$', '$10^5$', '$10^6$', '$10^7$'])\n",
    "ax1.legend(loc = 1)\n",
    "ax2.legend(loc = (0.781,0.745))"
   ]
  },
  {
   "cell_type": "code",
   "execution_count": null,
   "metadata": {},
   "outputs": [],
   "source": []
  }
 ],
 "metadata": {
  "kernelspec": {
   "display_name": "Python 3 (ipykernel)",
   "language": "python",
   "name": "python3"
  },
  "language_info": {
   "codemirror_mode": {
    "name": "ipython",
    "version": 3
   },
   "file_extension": ".py",
   "mimetype": "text/x-python",
   "name": "python",
   "nbconvert_exporter": "python",
   "pygments_lexer": "ipython3",
   "version": "3.9.10"
  }
 },
 "nbformat": 4,
 "nbformat_minor": 4
}
